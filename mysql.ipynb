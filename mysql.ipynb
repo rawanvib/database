{
 "cells": [
  {
   "cell_type": "code",
   "execution_count": null,
   "metadata": {
    "scrolled": true
   },
   "outputs": [],
   "source": [
    "import mysql.connector\n",
    "\n",
    "# create connection\n",
    "\n",
    "mydb = mysql.connector.connect(\n",
    "  host=\"localhost\",\n",
    "  user=\"root\",\n",
    "  password=\"password@root\"\n",
    ")\n",
    "\n",
    "print(mydb)"
   ]
  },
  {
   "cell_type": "markdown",
   "metadata": {},
   "source": [
    "Import mysql.connector module\n",
    "Create the connection object.\n",
    "Create the cursor object\n",
    "Execute the query"
   ]
  },
  {
   "cell_type": "markdown",
   "metadata": {},
   "source": [
    "The cursor object can be defined as an abstraction specified in the Python DB-API 2.0.\n",
    "It facilitates us to have multiple separate working environments through the same connection to the database. \n",
    "We can create the cursor object by calling the 'cursor' function of the connection object.\n",
    "The cursor object is an important aspect of executing queries to the databases."
   ]
  },
  {
   "cell_type": "code",
   "execution_count": null,
   "metadata": {},
   "outputs": [],
   "source": [
    "import mysql.connector\n",
    "\n",
    "mydb = mysql.connector.connect(\n",
    "  host=\"localhost\",\n",
    "  user=\"root\",\n",
    "  password=\"password@root\"\n",
    ")\n",
    "\n",
    "mycursor = mydb.cursor()\n",
    "\n",
    "mycursor.execute(\"CREATE DATABASE newDatabase\")\n"
   ]
  },
  {
   "cell_type": "code",
   "execution_count": 2,
   "metadata": {
    "scrolled": true
   },
   "outputs": [
    {
     "name": "stdout",
     "output_type": "stream",
     "text": [
      "<mysql.connector.connection_cext.CMySQLConnection object at 0x7f4d3c5d6370>\n",
      "('information_schema',)\n",
      "('mydb',)\n",
      "('mysql',)\n",
      "('newDatabase',)\n",
      "('performance_schema',)\n",
      "('sys',)\n"
     ]
    },
    {
     "data": {
      "text/plain": [
       "True"
      ]
     },
     "execution_count": 2,
     "metadata": {},
     "output_type": "execute_result"
    }
   ],
   "source": [
    "#specify the database name in the connect() method if we want to connect to a specific database.\n",
    "\n",
    "import mysql.connector  \n",
    "  \n",
    "#Create the connection object   \n",
    "myconn = mysql.connector.connect(host = \"localhost\", user = \"root\",passwd = \"password@root\", database = \"mydb\")  \n",
    "  \n",
    "#printing the connection object   \n",
    "print(myconn)   \n",
    "\n",
    "# return a list of systems database\n",
    "\n",
    "mycursor = myconn.cursor(buffered=True)\n",
    "\n",
    "mycursor.execute(\"SHOW DATABASES\")\n",
    "\n",
    "for x in mycursor:\n",
    "    print(x)\n",
    "    \n",
    "mycursor.close()"
   ]
  },
  {
   "cell_type": "markdown",
   "metadata": {},
   "source": [
    "# Create a table"
   ]
  },
  {
   "cell_type": "code",
   "execution_count": 5,
   "metadata": {
    "scrolled": true
   },
   "outputs": [],
   "source": [
    "mycursor=myconn.cursor()\n",
    "mycursor.execute(\"CREATE TABLE students (student_id INT AUTO_INCREMENT PRIMARY KEY, name VARCHAR(50), address VARCHAR(100))\")"
   ]
  },
  {
   "cell_type": "markdown",
   "metadata": {},
   "source": [
    "# add column"
   ]
  },
  {
   "cell_type": "code",
   "execution_count": 6,
   "metadata": {},
   "outputs": [],
   "source": [
    "mycursor.execute(\"ALTER TABLE students ADD COLUMN major VARCHAR(20)\")"
   ]
  },
  {
   "cell_type": "code",
   "execution_count": 7,
   "metadata": {},
   "outputs": [
    {
     "name": "stdout",
     "output_type": "stream",
     "text": [
      "('students',)\n"
     ]
    }
   ],
   "source": [
    "mycursor.execute(\"SHOW TABLES\")\n",
    "\n",
    "for x in mycursor:\n",
    "    print(x)"
   ]
  },
  {
   "cell_type": "code",
   "execution_count": 8,
   "metadata": {
    "scrolled": true
   },
   "outputs": [
    {
     "name": "stdout",
     "output_type": "stream",
     "text": [
      "['student_id', 'name', 'address', 'major']\n"
     ]
    }
   ],
   "source": [
    "mycursor.execute(\"desc students\")\n",
    "print([column[0] for column in mycursor.fetchall()])"
   ]
  },
  {
   "cell_type": "code",
   "execution_count": 4,
   "metadata": {
    "scrolled": true
   },
   "outputs": [],
   "source": [
    "mycursor.execute(\"DROP TABLE students\")"
   ]
  },
  {
   "cell_type": "markdown",
   "metadata": {},
   "source": [
    "# drop column "
   ]
  },
  {
   "cell_type": "code",
   "execution_count": 9,
   "metadata": {},
   "outputs": [
    {
     "name": "stdout",
     "output_type": "stream",
     "text": [
      "['student_id', 'name', 'major']\n"
     ]
    }
   ],
   "source": [
    "mycursor.execute(\"ALTER TABLE students Drop address\")\n",
    "\n",
    "mycursor.execute(\"desc students\")\n",
    "print([column[0] for column in mycursor.fetchall()])"
   ]
  },
  {
   "cell_type": "markdown",
   "metadata": {},
   "source": [
    "# inserting data"
   ]
  },
  {
   "cell_type": "code",
   "execution_count": 10,
   "metadata": {},
   "outputs": [
    {
     "name": "stdout",
     "output_type": "stream",
     "text": [
      "1 record inserted.\n"
     ]
    }
   ],
   "source": [
    "# in sql \n",
    "# INSERT INTO students VALUES(1,'Jack','Biolody');\n",
    "\n",
    "import mysql.connector\n",
    "\n",
    "myconn = mysql.connector.connect(\n",
    "  host=\"localhost\",\n",
    "  user=\"root\",\n",
    "  password=\"password@root\",\n",
    "  database=\"mydb\"\n",
    ")\n",
    "\n",
    "mycursor = myconn.cursor()\n",
    "\n",
    "sql = \"INSERT INTO students (student_id,name, major) VALUES (%s,%s, %s)\"\n",
    "val = (1, \"Jack\", 'Biology')\n",
    "\n",
    "try:\n",
    "    mycursor.execute(sql, val)\n",
    "    \n",
    "    # commit the transaction\n",
    "    # myconn.commit is required to make changes, otherwise no changes are made to the table\n",
    "    myconn.commit()\n",
    "except:\n",
    "    #The rollback() method is used to revert the last changes made to the database. \n",
    "    #If a condition arises where one is not satisfied with the changes made to the database or\n",
    "    # a database transaction fails, the rollback() method can be used to retrieve the original data that\n",
    "    # was changed through the commit() method.\n",
    "    \n",
    "    myconn.rollback()\n",
    "    \n",
    "print(mycursor.rowcount, \"record inserted.\")\n",
    "#myconn.close()"
   ]
  },
  {
   "cell_type": "code",
   "execution_count": 12,
   "metadata": {
    "scrolled": true
   },
   "outputs": [
    {
     "name": "stdout",
     "output_type": "stream",
     "text": [
      "Total number of rows in table  1  \n",
      "row id is  0 \n",
      "\n",
      "student_id 1\n",
      "name Jack\n",
      "major Biology \n",
      "\n",
      "[(1, 'Jack', 'Biology')]\n"
     ]
    }
   ],
   "source": [
    "mycursor.execute(\"select * from students\")\n",
    "records=mycursor.fetchall()\n",
    "\n",
    "print(\"Total number of rows in table \", mycursor.rowcount, \" \\nrow id is \",mycursor.lastrowid,\"\\n\")\n",
    "\n",
    "for row in records:\n",
    "    print(\"student_id\", row[0])\n",
    "    print(\"name\",row[1])\n",
    "    print(\"major\",row[2],\"\\n\")\n",
    "    \n",
    "print(records)"
   ]
  },
  {
   "cell_type": "code",
   "execution_count": 13,
   "metadata": {
    "scrolled": true
   },
   "outputs": [
    {
     "name": "stdout",
     "output_type": "stream",
     "text": [
      "4 records inserted.\n",
      "\n",
      "Total number of rows in table  5  \n",
      "row id is  0 \n",
      "\n",
      "student_id 1\n",
      "name Jack\n",
      "major Biology \n",
      "\n",
      "student_id 2\n",
      "name Kate\n",
      "major Sociology \n",
      "\n",
      "student_id 3\n",
      "name Claire\n",
      "major English \n",
      "\n",
      "student_id 4\n",
      "name Jack\n",
      "major Sociology \n",
      "\n",
      "student_id 5\n",
      "name Mike\n",
      "major Comp. Sci. \n",
      "\n"
     ]
    }
   ],
   "source": [
    "# in sql \n",
    "# INSERT INTO students VALUES(1,'Jack','Biolody');\n",
    "\n",
    "#import mysql.connector\n",
    "\n",
    "#myconn = mysql.connector.connect(\n",
    "#  host=\"localhost\",\n",
    "#  user=\"root\",\n",
    "#  password=\"password@root\",\n",
    "#  database=\"mydb\"\n",
    "#)\n",
    "\n",
    "#mycursor = myconn.cursor()\n",
    "\n",
    "sql = \"INSERT INTO students (student_id,name, major) VALUES (%s,%s, %s)\"\n",
    "val = [\n",
    "    (2,'Kate','Sociology'),\n",
    "    (3,'Claire','English'),\n",
    "    (4,'Jack','Sociology'),\n",
    "    (5,'Mike','Comp. Sci.'),\n",
    "]\n",
    "\n",
    "# executemany to include multiple rows\n",
    "mycursor.executemany(sql, val)\n",
    "    \n",
    "# commit the transaction\n",
    "myconn.commit()\n",
    "\n",
    "    \n",
    "print(mycursor.rowcount, \"records inserted.\\n\")\n",
    "#myconn.close()\n",
    "\n",
    "mycursor.execute(\"select * from students\")\n",
    "records=mycursor.fetchall()\n",
    "\n",
    "print(\"Total number of rows in table \", mycursor.rowcount, \" \\nrow id is \",mycursor.lastrowid,\"\\n\")\n",
    "\n",
    "for row in records:\n",
    "    print(\"student_id\", row[0])\n",
    "    print(\"name\",row[1])\n",
    "    print(\"major\",row[2],\"\\n\")\n",
    "    \n"
   ]
  },
  {
   "cell_type": "code",
   "execution_count": 14,
   "metadata": {
    "scrolled": true
   },
   "outputs": [
    {
     "name": "stdout",
     "output_type": "stream",
     "text": [
      "['student_id', 'name', 'major']\n"
     ]
    }
   ],
   "source": [
    "mycursor.execute(\"desc students\")\n",
    "print([column[0] for column in mycursor.fetchall()])"
   ]
  },
  {
   "cell_type": "code",
   "execution_count": 15,
   "metadata": {
    "scrolled": true
   },
   "outputs": [
    {
     "name": "stdout",
     "output_type": "stream",
     "text": [
      "1 records inserted.\n",
      "\n",
      "Total number of rows in table  6  \n",
      "row id is  0 \n",
      "\n",
      "student_id 1\n",
      "name Jack\n",
      "major Biology \n",
      "\n",
      "student_id 2\n",
      "name Kate\n",
      "major Sociology \n",
      "\n",
      "student_id 3\n",
      "name Claire\n",
      "major English \n",
      "\n",
      "student_id 4\n",
      "name Jack\n",
      "major Sociology \n",
      "\n",
      "student_id 5\n",
      "name Mike\n",
      "major Comp. Sci. \n",
      "\n",
      "student_id 6\n",
      "name Mack\n",
      "major None \n",
      "\n"
     ]
    }
   ],
   "source": [
    "sql=\"INSERT INTO students (student_id,name) VALUES (%s,%s)\"\n",
    "val=(6,'Mack')\n",
    "\n",
    "mycursor.execute(sql,val)\n",
    "myconn.commit()\n",
    "   \n",
    "print(mycursor.rowcount, \"records inserted.\\n\")\n",
    "\n",
    "\n",
    "mycursor.execute(\"select * from students\")\n",
    "records=mycursor.fetchall()\n",
    "\n",
    "print(\"Total number of rows in table \", mycursor.rowcount, \" \\nrow id is \",mycursor.lastrowid,\"\\n\")\n",
    "\n",
    "for row in records:\n",
    "    print(\"student_id\", row[0])\n",
    "    print(\"name\",row[1])\n",
    "    print(\"major\",row[2],\"\\n\")\n",
    "    "
   ]
  },
  {
   "cell_type": "markdown",
   "metadata": {},
   "source": [
    "# read operation"
   ]
  },
  {
   "cell_type": "code",
   "execution_count": 17,
   "metadata": {
    "scrolled": true
   },
   "outputs": [
    {
     "name": "stdout",
     "output_type": "stream",
     "text": [
      "(1, 'Jack', 'Biology')\n"
     ]
    }
   ],
   "source": [
    "mycursor.execute(\"SELECT * FROM students\")\n",
    "result=mycursor.fetchone()\n",
    "print(result)"
   ]
  },
  {
   "cell_type": "code",
   "execution_count": 25,
   "metadata": {
    "scrolled": true
   },
   "outputs": [
    {
     "name": "stdout",
     "output_type": "stream",
     "text": [
      "[(1, 'Jack', 'Biology'), (2, 'Kate', 'Sociology'), (3, 'Claire', 'English'), (4, 'Jack', 'Sociology'), (5, 'Mike', 'Computer Science'), (6, 'Mack', None)]\n"
     ]
    }
   ],
   "source": [
    "mycursor.execute(\"SELECT * FROM students\")\n",
    "result=mycursor.fetchall()\n",
    "print(result)"
   ]
  },
  {
   "cell_type": "code",
   "execution_count": 20,
   "metadata": {},
   "outputs": [],
   "source": [
    "mycursor.reset()"
   ]
  },
  {
   "cell_type": "code",
   "execution_count": 24,
   "metadata": {
    "scrolled": false
   },
   "outputs": [
    {
     "name": "stdout",
     "output_type": "stream",
     "text": [
      "[('Jack',), ('Kate',), ('Claire',), ('Jack',), ('Mike',), ('Mack',)]\n"
     ]
    }
   ],
   "source": [
    "mycursor.execute(\"SELECT name FROM students\")\n",
    "read=mycursor.fetchall()\n",
    "print(read)"
   ]
  },
  {
   "cell_type": "code",
   "execution_count": 36,
   "metadata": {
    "scrolled": true
   },
   "outputs": [
    {
     "name": "stdout",
     "output_type": "stream",
     "text": [
      "[(2, 'Kate', 'Sociology'), (4, 'Jack', 'Sociology')]\n"
     ]
    }
   ],
   "source": [
    "# filtering\n",
    "mycursor.execute(\"select * from students where major='Sociology'\")\n",
    "result=mycursor.fetchall()\n",
    "print(result)"
   ]
  },
  {
   "cell_type": "code",
   "execution_count": 37,
   "metadata": {
    "scrolled": true
   },
   "outputs": [
    {
     "name": "stdout",
     "output_type": "stream",
     "text": [
      "[(2, 'Kate', 'Sociology'), (4, 'Jack', 'Sociology')]\n"
     ]
    }
   ],
   "source": [
    "mycursor.execute(\"select * from students where major like '%ology%'\")\n",
    "result=mycursor.fetchall()\n",
    "print(result)"
   ]
  },
  {
   "cell_type": "code",
   "execution_count": 41,
   "metadata": {
    "scrolled": false
   },
   "outputs": [
    {
     "name": "stdout",
     "output_type": "stream",
     "text": [
      "[(1, 'Jack', 'Biochemistry'), (2, 'Kate', 'Sociology')]\n"
     ]
    }
   ],
   "source": [
    "mycursor.execute(\"select * from students limit 2\")\n",
    "result=mycursor.fetchall()\n",
    "print(result)"
   ]
  },
  {
   "cell_type": "code",
   "execution_count": 53,
   "metadata": {},
   "outputs": [
    {
     "name": "stdout",
     "output_type": "stream",
     "text": [
      "(3, 'Claire', 'English')\n",
      "(4, 'Jack', 'Sociology')\n",
      "(6, 'Mack', 'Biochemistry')\n"
     ]
    }
   ],
   "source": [
    "# start from another position\n",
    "mycursor.execute(\"SELECT * FROM students LIMIT 5 OFFSET 2\")\n",
    "\n",
    "myresult = mycursor.fetchall()\n",
    "\n",
    "for x in myresult:\n",
    "  print(x)"
   ]
  },
  {
   "cell_type": "code",
   "execution_count": 42,
   "metadata": {},
   "outputs": [
    {
     "name": "stdout",
     "output_type": "stream",
     "text": [
      "[(6, 'Mack', 'Biochemistry'), (5, 'Mike', 'Computer Science')]\n"
     ]
    }
   ],
   "source": [
    "mycursor.execute(\"select * from students order by student_id desc limit 2\")\n",
    "result=mycursor.fetchall()\n",
    "print(result)"
   ]
  },
  {
   "cell_type": "code",
   "execution_count": 43,
   "metadata": {},
   "outputs": [
    {
     "name": "stdout",
     "output_type": "stream",
     "text": [
      "[('Jack', 'Biochemistry'), ('Claire', 'English'), ('Mack', 'Biochemistry')]\n"
     ]
    }
   ],
   "source": [
    "mycursor.execute(\"select name, major from students where major='English' or major='Biochemistry'\")\n",
    "result=mycursor.fetchall()\n",
    "print(result)"
   ]
  },
  {
   "cell_type": "code",
   "execution_count": null,
   "metadata": {},
   "outputs": [],
   "source": [
    "#  -- : comment\n",
    "# <,>,<=,>=, = \n",
    "# <> not equal to\n",
    "# AND OR"
   ]
  },
  {
   "cell_type": "code",
   "execution_count": 44,
   "metadata": {
    "scrolled": true
   },
   "outputs": [
    {
     "name": "stdout",
     "output_type": "stream",
     "text": [
      "[('Kate', 'Sociology'), ('Claire', 'English'), ('Jack', 'Sociology'), ('Mike', 'Computer Science')]\n"
     ]
    }
   ],
   "source": [
    "mycursor.execute(\"select name, major from students where major<>'Biochemistry'\")\n",
    "result=mycursor.fetchall()\n",
    "print(result)"
   ]
  },
  {
   "cell_type": "code",
   "execution_count": 46,
   "metadata": {
    "scrolled": true
   },
   "outputs": [
    {
     "name": "stdout",
     "output_type": "stream",
     "text": [
      "[(4, 'Jack', 'Sociology'), (5, 'Mike', 'Computer Science'), (6, 'Mack', 'Biochemistry')]\n"
     ]
    }
   ],
   "source": [
    "mycursor.execute(\"select * from students where student_id>3\")\n",
    "result=mycursor.fetchall()\n",
    "print(result)"
   ]
  },
  {
   "cell_type": "code",
   "execution_count": 47,
   "metadata": {
    "scrolled": true
   },
   "outputs": [
    {
     "name": "stdout",
     "output_type": "stream",
     "text": [
      "[(3, 'Claire', 'English'), (4, 'Jack', 'Sociology'), (5, 'Mike', 'Computer Science'), (6, 'Mack', 'Biochemistry')]\n"
     ]
    }
   ],
   "source": [
    "mycursor.execute(\"select * from students where student_id>=3\")\n",
    "result=mycursor.fetchall()\n",
    "print(result)"
   ]
  },
  {
   "cell_type": "code",
   "execution_count": 48,
   "metadata": {},
   "outputs": [
    {
     "name": "stdout",
     "output_type": "stream",
     "text": [
      "[(2, 'Kate', 'Sociology'), (3, 'Claire', 'English'), (4, 'Jack', 'Sociology')]\n"
     ]
    }
   ],
   "source": [
    "mycursor.execute(\"select * from students where major in ('English','Sociology')\")\n",
    "result=mycursor.fetchall()\n",
    "print(result)"
   ]
  },
  {
   "cell_type": "markdown",
   "metadata": {},
   "source": [
    "# order by - sort result"
   ]
  },
  {
   "cell_type": "code",
   "execution_count": 38,
   "metadata": {},
   "outputs": [
    {
     "name": "stdout",
     "output_type": "stream",
     "text": [
      "[('Claire',), ('Jack',), ('Jack',), ('Kate',), ('Mack',), ('Mike',)]\n"
     ]
    }
   ],
   "source": [
    "mycursor.execute(\"select name from students order by name\")\n",
    "result=mycursor.fetchall()\n",
    "print(result)"
   ]
  },
  {
   "cell_type": "code",
   "execution_count": 35,
   "metadata": {
    "scrolled": false
   },
   "outputs": [
    {
     "name": "stdout",
     "output_type": "stream",
     "text": [
      "[('Mike',), ('Mack',), ('Kate',), ('Jack',), ('Jack',), ('Claire',)]\n"
     ]
    }
   ],
   "source": [
    "mycursor.execute(\"select name from students order by name desc\")\n",
    "result=mycursor.fetchall()\n",
    "print(result)"
   ]
  },
  {
   "cell_type": "code",
   "execution_count": 39,
   "metadata": {
    "scrolled": true
   },
   "outputs": [
    {
     "name": "stdout",
     "output_type": "stream",
     "text": [
      "[(1, 'Jack', 'Biochemistry'), (6, 'Mack', 'Biochemistry'), (5, 'Mike', 'Computer Science'), (3, 'Claire', 'English'), (2, 'Kate', 'Sociology'), (4, 'Jack', 'Sociology')]\n"
     ]
    }
   ],
   "source": [
    "mycursor.execute(\"select * from students order by major,student_id\")\n",
    "result=mycursor.fetchall()\n",
    "print(result)"
   ]
  },
  {
   "cell_type": "code",
   "execution_count": 49,
   "metadata": {},
   "outputs": [
    {
     "name": "stdout",
     "output_type": "stream",
     "text": [
      "[('Jack', 'Sociology'), ('Mack', 'Biochemistry')]\n"
     ]
    }
   ],
   "source": [
    "mycursor.execute(\"select name, major from students where major in ('Biochemistry','Sociology') and student_id>3\")\n",
    "result=mycursor.fetchall()\n",
    "print(result)"
   ]
  },
  {
   "cell_type": "markdown",
   "metadata": {},
   "source": [
    "# Update operation"
   ]
  },
  {
   "cell_type": "code",
   "execution_count": 26,
   "metadata": {
    "scrolled": true
   },
   "outputs": [
    {
     "name": "stdout",
     "output_type": "stream",
     "text": [
      "[('Biology',), ('Sociology',), ('English',), ('Sociology',), ('Computer Science',), (None,)]\n"
     ]
    }
   ],
   "source": [
    "mycursor.execute(\"UPDATE students SET major='Computer Science' WHERE major='Comp. Sci.'\")\n",
    "myconn.commit()\n",
    "\n",
    "mycursor.execute(\"SELECT major FROM students\")\n",
    "read=mycursor.fetchall()\n",
    "print(read)"
   ]
  },
  {
   "cell_type": "code",
   "execution_count": 29,
   "metadata": {},
   "outputs": [
    {
     "name": "stdout",
     "output_type": "stream",
     "text": [
      "[('Biology',), ('Sociology',), ('English',), ('Sociology',), ('Computer Science',), ('Chemistry',)]\n"
     ]
    }
   ],
   "source": [
    "mycursor.execute(\"UPDATE students SET major='Chemistry' WHERE student_id=6\")\n",
    "myconn.commit()\n",
    "\n",
    "mycursor.execute(\"SELECT major FROM students\")\n",
    "read=mycursor.fetchall()\n",
    "print(read)"
   ]
  },
  {
   "cell_type": "code",
   "execution_count": 31,
   "metadata": {
    "scrolled": true
   },
   "outputs": [
    {
     "name": "stdout",
     "output_type": "stream",
     "text": [
      "[('Biochemistry',), ('Sociology',), ('English',), ('Sociology',), ('Computer Science',), ('Biochemistry',)]\n"
     ]
    }
   ],
   "source": [
    "mycursor.execute(\"UPDATE students SET major='Biochemistry' WHERE major='Biology' or major='Chemistry'\")\n",
    "myconn.commit()\n",
    "\n",
    "mycursor.execute(\"SELECT major FROM students\")\n",
    "read=mycursor.fetchall()\n",
    "print(read)"
   ]
  },
  {
   "cell_type": "markdown",
   "metadata": {},
   "source": [
    "# Delete operation"
   ]
  },
  {
   "cell_type": "code",
   "execution_count": 50,
   "metadata": {
    "scrolled": true
   },
   "outputs": [
    {
     "name": "stdout",
     "output_type": "stream",
     "text": [
      "[(1, 'Jack', 'Biochemistry'), (2, 'Kate', 'Sociology'), (3, 'Claire', 'English'), (4, 'Jack', 'Sociology'), (5, 'Mike', 'Computer Science'), (6, 'Mack', 'Biochemistry')]\n",
      "\n",
      "\n",
      "\n",
      "[(1, 'Jack', 'Biochemistry'), (2, 'Kate', 'Sociology'), (3, 'Claire', 'English'), (4, 'Jack', 'Sociology'), (6, 'Mack', 'Biochemistry')]\n"
     ]
    }
   ],
   "source": [
    "# DELETE FROM student;  --delete all rows\n",
    "# DELETE FROM student WHERE student_id=5;---delete specific row\n",
    "mycursor.execute(\"SELECT * FROM students\")\n",
    "result=mycursor.fetchall()\n",
    "print(result)\n",
    "print(\"\\n\\n\")\n",
    "\n",
    "sql='DELETE FROM students WHERE name=\"Mike\"'\n",
    "mycursor.execute(sql)\n",
    "myconn.commit()\n",
    "\n",
    "# sql = \"DELETE FROM customers WHERE name = %s\"\n",
    "#adr = (\"Mike\", )\n",
    "#mycursor.execute(sql, adr)\n",
    "\n",
    "mycursor.execute(\"SELECT * FROM students\")\n",
    "result=mycursor.fetchall()\n",
    "print(result)"
   ]
  },
  {
   "cell_type": "code",
   "execution_count": 51,
   "metadata": {},
   "outputs": [],
   "source": [
    "sql = \"DROP TABLE IF EXISTS customers\"\n",
    "\n",
    "mycursor.execute(sql)"
   ]
  },
  {
   "cell_type": "code",
   "execution_count": 54,
   "metadata": {},
   "outputs": [],
   "source": [
    "myconn.close()"
   ]
  },
  {
   "cell_type": "code",
   "execution_count": null,
   "metadata": {},
   "outputs": [],
   "source": []
  },
  {
   "cell_type": "markdown",
   "metadata": {},
   "source": [
    "# Join two or more tables"
   ]
  },
  {
   "cell_type": "code",
   "execution_count": 64,
   "metadata": {
    "scrolled": true
   },
   "outputs": [
    {
     "name": "stdout",
     "output_type": "stream",
     "text": [
      "[(1, 'John', 154), (2, 'Peter', 154), (3, 'Amy', 155), (4, 'Hannah', 155), (5, 'Michael', 154)]\n"
     ]
    }
   ],
   "source": [
    "import mysql.connector\n",
    "\n",
    "myconn=mysql.connector.connect(\n",
    "host='localhost',\n",
    "user='root',\n",
    "password='password@root',\n",
    "database='customers')\n",
    "\n",
    "cursor=myconn.cursor()\n",
    "\n",
    "#cursor.execute(\"CREATE TABLE users (id INT PRIMARY KEY, name VARCHAR(20), fav INT DEFAULT NULL)\")\n",
    "\n",
    "sql=\"INSERT INTO users(id, name,fav) VALUES (%s,%s,%s)\"\n",
    "val=[\n",
    "    (1,'John',154),\n",
    "    (2,'Peter',154),\n",
    "    (3,'Amy',155),\n",
    "    (4,'Hannah',155),\n",
    "    (5,'Michael',154)\n",
    "]\n",
    "\n",
    "cursor.executemany(sql,val)\n",
    "\n",
    "myconn.commit()\n",
    "\n",
    "cursor.execute(\"SELECT * FROM users\")\n",
    "result=cursor.fetchall()\n",
    "print(result)\n"
   ]
  },
  {
   "cell_type": "code",
   "execution_count": 69,
   "metadata": {
    "scrolled": true
   },
   "outputs": [
    {
     "name": "stdout",
     "output_type": "stream",
     "text": [
      "[(154, 'Chocolate Heaven'), (155, 'Tasty Lemons'), (156, 'Vanilla Dreams')]\n"
     ]
    }
   ],
   "source": [
    "import mysql.connector\n",
    "\n",
    "myconn=mysql.connector.connect(\n",
    "    host='localhost',\n",
    "    user='root',\n",
    "    password='password@root',\n",
    "    database='customers')\n",
    "\n",
    "cursor=myconn.cursor()\n",
    "\n",
    "cursor.execute(\"CREATE TABLE products (id INT PRIMARY KEY, name VARCHAR(20))\")\n",
    "\n",
    "sql=\"INSERT INTO products (id, name) VALUES (%s,%s)\"\n",
    "val=[\n",
    "    (154,'Chocolate Heaven'),\n",
    "    (155,'Tasty Lemons'),\n",
    "    (156,'Vanilla Dreams')\n",
    "]\n",
    "\n",
    "cursor.executemany(sql,val)\n",
    "\n",
    "myconn.commit()\n",
    "\n",
    "cursor.execute(\"SELECT * FROM products\")\n",
    "result=cursor.fetchall()\n",
    "print(result)\n"
   ]
  },
  {
   "cell_type": "code",
   "execution_count": 70,
   "metadata": {},
   "outputs": [],
   "source": [
    "# left join-show all users, even if they do not have a favorite product,"
   ]
  },
  {
   "cell_type": "code",
   "execution_count": 71,
   "metadata": {
    "scrolled": true
   },
   "outputs": [
    {
     "name": "stdout",
     "output_type": "stream",
     "text": [
      "('John', 'Chocolate Heaven')\n",
      "('Peter', 'Chocolate Heaven')\n",
      "('Michael', 'Chocolate Heaven')\n",
      "('Amy', 'Tasty Lemons')\n",
      "('Hannah', 'Tasty Lemons')\n"
     ]
    }
   ],
   "source": [
    "import mysql.connector\n",
    "\n",
    "mydb = mysql.connector.connect(\n",
    "  host=\"localhost\",\n",
    "  user=\"root\",\n",
    "  password=\"password@root\",\n",
    "  database=\"customers\"\n",
    ")\n",
    "\n",
    "mycursor = mydb.cursor()\n",
    "\n",
    "sql = \"SELECT users.name AS user,products.name AS favorite \\\n",
    "  FROM users \\\n",
    "  LEFT JOIN products ON users.fav = products.id\"\n",
    "\n",
    "mycursor.execute(sql)\n",
    "\n",
    "myresult = mycursor.fetchall()\n",
    "\n",
    "for x in myresult:\n",
    "  print(x)\n"
   ]
  },
  {
   "cell_type": "code",
   "execution_count": null,
   "metadata": {},
   "outputs": [],
   "source": [
    "# right join-eturn all products, and the users who have them as their favorite, even if no user have them as their favorite"
   ]
  },
  {
   "cell_type": "code",
   "execution_count": 72,
   "metadata": {
    "scrolled": true
   },
   "outputs": [
    {
     "name": "stdout",
     "output_type": "stream",
     "text": [
      "('John', 'Chocolate Heaven')\n",
      "('Peter', 'Chocolate Heaven')\n",
      "('Amy', 'Tasty Lemons')\n",
      "('Hannah', 'Tasty Lemons')\n",
      "('Michael', 'Chocolate Heaven')\n",
      "(None, 'Vanilla Dreams')\n"
     ]
    }
   ],
   "source": [
    "import mysql.connector\n",
    "\n",
    "mydb = mysql.connector.connect(\n",
    "  host=\"localhost\",\n",
    "  user=\"root\",\n",
    "  password=\"password@root\",\n",
    "  database=\"customers\"\n",
    ")\n",
    "\n",
    "mycursor = mydb.cursor()\n",
    "\n",
    "sql = \"SELECT users.name AS user,products.name AS favorite \\\n",
    "  FROM users \\\n",
    "  RIGHT JOIN products ON users.fav = products.id\"\n",
    "\n",
    "mycursor.execute(sql)\n",
    "\n",
    "myresult = mycursor.fetchall()\n",
    "\n",
    "for x in myresult:\n",
    "  print(x)\n"
   ]
  },
  {
   "cell_type": "code",
   "execution_count": null,
   "metadata": {},
   "outputs": [],
   "source": [
    "# inner join-INNER JOIN only shows the records where there is a match"
   ]
  },
  {
   "cell_type": "code",
   "execution_count": 73,
   "metadata": {},
   "outputs": [
    {
     "name": "stdout",
     "output_type": "stream",
     "text": [
      "('John', 'Chocolate Heaven')\n",
      "('Peter', 'Chocolate Heaven')\n",
      "('Amy', 'Tasty Lemons')\n",
      "('Hannah', 'Tasty Lemons')\n",
      "('Michael', 'Chocolate Heaven')\n"
     ]
    }
   ],
   "source": [
    "import mysql.connector\n",
    "\n",
    "mydb = mysql.connector.connect(\n",
    "  host=\"localhost\",\n",
    "  user=\"root\",\n",
    "  password=\"password@root\",\n",
    "  database=\"customers\"\n",
    ")\n",
    "\n",
    "mycursor = mydb.cursor()\n",
    "\n",
    "sql = \"SELECT users.name AS user,products.name AS favorite \\\n",
    "  FROM users \\\n",
    "  INNER JOIN products ON users.fav = products.id\"\n",
    "\n",
    "mycursor.execute(sql)\n",
    "\n",
    "myresult = mycursor.fetchall()\n",
    "\n",
    "for x in myresult:\n",
    "  print(x)\n"
   ]
  }
 ],
 "metadata": {
  "kernelspec": {
   "display_name": "Python 3",
   "language": "python",
   "name": "python3"
  },
  "language_info": {
   "codemirror_mode": {
    "name": "ipython",
    "version": 3
   },
   "file_extension": ".py",
   "mimetype": "text/x-python",
   "name": "python",
   "nbconvert_exporter": "python",
   "pygments_lexer": "ipython3",
   "version": "3.8.5"
  }
 },
 "nbformat": 4,
 "nbformat_minor": 4
}
